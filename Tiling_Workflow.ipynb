{
  "nbformat": 4,
  "nbformat_minor": 0,
  "metadata": {
    "colab": {
      "name": "Tiling Workflow.ipynb",
      "provenance": [],
      "collapsed_sections": []
    },
    "kernelspec": {
      "name": "python3",
      "display_name": "Python 3"
    },
    "language_info": {
      "name": "python"
    }
  },
  "cells": [
    {
      "cell_type": "markdown",
      "metadata": {
        "id": "XYURb7ZAayAE"
      },
      "source": [
        "# First load the tiff file of elevation data."
      ]
    },
    {
      "cell_type": "code",
      "metadata": {
        "id": "IJ661NO-auos"
      },
      "source": [
        "!pip install rasterio"
      ],
      "execution_count": null,
      "outputs": []
    },
    {
      "cell_type": "code",
      "metadata": {
        "id": "G-e53VS_ax0z"
      },
      "source": [
        "import rasterio as rio\n",
        "import xarray as xr\n",
        "with rio.open('drive/MyDrive/Image Analysis/TuolumneMeadowsSubset.tif') as img:\n",
        "  imgnp = img.read()"
      ],
      "execution_count": null,
      "outputs": []
    },
    {
      "cell_type": "markdown",
      "metadata": {
        "id": "T3DIxI7dbAfU"
      },
      "source": [
        "# Now define a subsection function to tile the tiff file with.\n",
        "#### Note that this function actually isn't the one we will use for our project.\n",
        "#### This is one I was working on before we landed on a completed one."
      ]
    },
    {
      "cell_type": "code",
      "metadata": {
        "id": "CBXS7FoCa6_c"
      },
      "source": [
        "def SubSection(n, im, length):\n",
        "  \"\"\"\n",
        "  Short Summary\n",
        "  -------------\n",
        "  Divides image into subsections.\n",
        "\n",
        "  Extended Summary\n",
        "  ----------------\n",
        "  Inputs of the square image, side length of the image, and desired side length\n",
        "  of subsections elicit a list of subsections. The first subsection is used to \n",
        "  start the list. Then, the following subsections are added to the list \n",
        "  iteratively using a for loop. Currently this function only operates on the top\n",
        "  row of dimensions n x image length.\n",
        "\n",
        "  Parameters\n",
        "  ----------\n",
        "  n: integer\n",
        "    Desired side length of the square subsections\n",
        "  im: ndarray\n",
        "    The image to be subsectioned (images here are rasters of type .tiff)\n",
        "  length: integer\n",
        "    The side length of the square image to be subsectioned\n",
        "\n",
        "  Returns\n",
        "  -------\n",
        "  im_sub_list: list\n",
        "    The list of subsections of the input image\n",
        "\n",
        "  Notes\n",
        "  -----\n",
        "  Currently this function only works for the top row as mentioned above in the \n",
        "  extended summary. In the future I will extend this function to iterate over \n",
        "  the whole image.\n",
        "\n",
        "  Examples\n",
        "  --------\n",
        "  SubSection(2, im, 10)\n",
        "  list [[[5, 6],[5, 3]], [[2, 3],[2, 4]], [[5, 7],[6, 8]], [[4, 2],[1, 3]], \n",
        "  [[4, 6],[8,7]]]\n",
        "  \"\"\"\n",
        "\n",
        "  im_sub_list = list(im[0:n, 0:n])\n",
        "  \n",
        "  for i in range(length//n):\n",
        "    im_sub_list.extend(imgnp[(i*n):((i+1)*n), 0:n])\n",
        "\n",
        "  return im_sub_list"
      ],
      "execution_count": null,
      "outputs": []
    }
  ]
}